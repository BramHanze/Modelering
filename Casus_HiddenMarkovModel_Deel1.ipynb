{
 "cells": [
  {
   "cell_type": "markdown",
   "id": "48d65ba9",
   "metadata": {},
   "source": [
    "# <span id=\"0\">Casus *Hidden Markov Model* - Deel I</span>\n",
    "\n",
    "Inhoud:\n",
    "\n",
    "* **<a href=\"#1\">CpG-islands (CGIs)</a>**\n",
    "\n",
    "* **<a href=\"#2\">Hidden Markov Models</a>**\n",
    "\n",
    "* **<a href=\"#3\">CpG-eiland en non-CpG-eiland sequenties</a>**\n",
    "\n",
    "* **<a href=\"#4\">Toy-data</a>**\n",
    "\n",
    "* **<a href=\"#5\">Je eigen `HiddenMarkovModel` class</a>**"
   ]
  },
  {
   "cell_type": "code",
   "execution_count": 2,
   "id": "a2f4078b",
   "metadata": {},
   "outputs": [],
   "source": [
    "%matplotlib inline\n",
    "%reload_ext autoreload\n",
    "%autoreload 2\n",
    "\n",
    "from matplotlib import pyplot as plt\n",
    "import numpy as np"
   ]
  },
  {
   "cell_type": "markdown",
   "id": "99fbf2f4",
   "metadata": {},
   "source": [
    "<a id=\"1\" href=\"#0\" style=\"text-align: right; display: block;\">Terug naar boven</a>\n",
    "\n",
    "### CpG-islands (CGIs)\n",
    "\n",
    "CpG-eilandjes zijn elementen in het genoom die een grote invloed uitoefenen op de regulatie van genexpressie door DNA-methylatie. Hun rol in kankerontwikkeling door abnormale methylatie van tumorsuppressorgenen en oncogenen maakt het een doelwit voor diagnostische en therapeutische benaderingen. Begrip van de dynamiek van CpG-eilandjes biedt inzicht in de moleculaire mechanismen van kanker en mogelijkheden voor innovatieve behandelingsstrategieën.\n",
    "\n",
    "CpG-eilandjes zijn gebieden in het DNA die een hoge dichtheid hebben aan CpG-dinucleotiden, waarbij \"CpG\" staat voor een cytosine nucleotide (C) gevolgd door een guanine nucleotide (G) verbonden door een fosfaatgroep (p). Deze eilanden zijn meestal ongewoon rijk aan de CG-combinatie en bevatten vaak geen gemethyleerde cytosines, wat hen onderscheidt van de rest van het genoom waar CpG dinucleotiden vaak gemethyleerd zijn en daardoor minder frequent voorkomen. CpG-eilandjes komen vaak voor in of nabij de promotorregio's van genen, die de expressie van de corresponderende genen reguleren. Ze zijn typisch een paar honderd tot een paar duizend basenparen lang en hebben een GC-gehalte van meer dan 50%, met een CpG-dichtheid hoger dan wat gemiddeld is voor het genoom.\n",
    "\n",
    "CpG-eilandjes spelen een cruciale rol bij de regulatie van genexpressie via hun invloed op DNA-methylatie, een epigenetisch mechanisme. Dit proces voegt een methylgroep toe aan het cytosine-residu in CpG-dinucleotiden, meestal door de werking van DNA-methyltransferasen. In promotorregio's is methylatie vaak geassocieerd met gen-silencing omdat het de binding van transcriptiefactoren en andere noodzakelijke eiwitten voor genexpressie ontmoedigt. Omgekeerd kan het demethyleren van CpG-eilandjes de expressie van geassocieerde genen activeren, aangezien het de toegankelijkheid van transcriptiefactoren en RNA-polymerase vergroot.\n",
    "\n",
    "<img src=\"https://media.licdn.com/dms/image/D4D22AQEdqGnu8ZC80Q/feedshare-shrink_2048_1536/0/1684682580953?e=2147483647&v=beta&t=r6jlPalFOi_YDqJ_tBSPkdZRlvfakvmH1DVf9bnTTEk\" width=\"40%\" heigth=\"40%\" />\n",
    "\n",
    "De epigenetische modificatie van CpG-eilandjes speelt een belangrijke rol in kankerontwikkeling door abnormale genexpressie. In kankercellen worden CpG-eilandjes in de promotorregio's van tumorsuppressorgenen vaak hypergemethyleerd. Dit leidt tot silencing van deze genen, wat bijdraagt aan ongecontroleerde celgroei en proliferatie. Voorbeelden van tumorsuppressorgenen die vaak gehypermethyleerd zijn in kanker omvatten *p16INK4a* en *BRCA1*. Globale hypomethylatie van het genoom kan ook voorkomen in kankercellen, wat resulteert in genomische instabiliteit en de activatie van oncogenen. Dit draagt bij aan tumorvorming en -progressie.\n",
    "\n",
    "Abnormale methylatiepatronen van CpG-eilandjes kunnen dienen als biomarkers voor de vroege detectie en diagnose van kanker. Epigenetische therapieën, zoals DNA-methylatie-inhibitoren (bijv. azacitidine en decitabine), worden gebruikt om abnormale methylatie om te keren en de normale expressie van tumorsuppressorgenen te herstellen.\n",
    "\n",
    "Bekijk onderstaande inleidende video en schrijf er een samenvatting van. Zoek zo nodig zelf uitgebreidere achtergrondinformatie over onbekende onderwerpen en vermeld deze bronnen in je samenvatting als referenties. Neem onder andere de bijbehorende [Wikipedia](https://en.wikipedia.org/wiki/CpG_site) pagina door."
   ]
  },
  {
   "cell_type": "code",
   "execution_count": 3,
   "id": "bf4d72b2",
   "metadata": {},
   "outputs": [
    {
     "data": {
      "text/html": [
       "<iframe width=\"560\" height=\"315\" src=\"https://www.youtube.com/embed/bc3wtVXyAXo\" title=\"YouTube video player\" frameborder=\"0\" allow=\"accelerometer; autoplay; clipboard-write; encrypted-media; gyroscope; picture-in-picture; web-share\" referrerpolicy=\"strict-origin-when-cross-origin\" allowfullscreen></iframe>\n"
      ],
      "text/plain": [
       "<IPython.core.display.HTML object>"
      ]
     },
     "metadata": {},
     "output_type": "display_data"
    }
   ],
   "source": [
    "%%html\n",
    "<iframe width=\"560\" height=\"315\" src=\"https://www.youtube.com/embed/bc3wtVXyAXo\" title=\"YouTube video player\" frameborder=\"0\" allow=\"accelerometer; autoplay; clipboard-write; encrypted-media; gyroscope; picture-in-picture; web-share\" referrerpolicy=\"strict-origin-when-cross-origin\" allowfullscreen></iframe>"
   ]
  },
  {
   "cell_type": "markdown",
   "id": "ec2ab37b",
   "metadata": {},
   "source": [
    "## *CpG eilanden - Samenvatting video*\n",
    "CpG sites, zijn regio’s waar er (in de 5’ - 3’ richting) na een C, een G volgt. Als alle nucleotiden even vaak voor zouden komen, in een willekeurige volgorde zou een tweetal nucleotiden in 6.25% een CPG site zijn. Bij mensen is het echter maar 1%.\n",
    "Het proces van deaminatie kan ervoor zorgen dat een C een U wordt, als de C gemethyleerd is kan deze in een T veranderen. Een U komt alleen RNA voor, en valt hierdoor erg op, een foutieve T is echter moeilijker te detecteren. In organismen met geen of minder methylering is het CG% wel de verwachte 6.25%. In gewervelde organismen wordt een C eerder gemethyleerd als deze door een G wordt gevolgd.\n",
    "\n",
    "Regio’s met een relatief hoog CG% worden CpG eilanden genoemd. Deze worden meestal gedefinieerd met de volgende eisen: minimaal 200 bp lang, boven 50% CG%, en hebben een O/E CpG ratio van boven 60%. CpG eilanden zijn meestal niet gemethyleerd. Deze regio’s hebben over het algemeen een veel hogere expressie, waardoor ze niet gemethyleerd raken.\n",
    "\n",
    "Hypermethylering van CpG eilanden in promoter regio’s is 10x vaker de oorzaak van kanker dan mutaties.\n"
   ]
  },
  {
   "cell_type": "markdown",
   "id": "327f0896",
   "metadata": {},
   "source": [
    "<a id=\"2\" href=\"#0\" style=\"text-align: right; display: block;\">Terug naar boven</a>\n",
    "\n",
    "### Hidden Markov Models\n",
    "\n",
    "CpG-eilandjes kunnen worden gedetecteerd met behulp van verschillende computationele methoden, waarvan een van de meest effectieve methoden het gebruik van Hidden Markov Models (HMMs) is.\n",
    "\n",
    "Een Hidden Markov Model is een krachtig hulpmiddel voor het modelleren van tijdreeksen en sequentiële data waarin de werkelijke toestanden niet direct zichtbaar zijn, maar waar de uitkomsten afhankelijk zijn van deze toestanden. HMMs maken gebruik van probabilistische berekeningen om te schatten welke verborgen toestanden het meest waarschijnlijk zijn gegeven de waargenomen data, wat ze tot een waardevol instrument maakt in een breed scala aan toepassingen. HMMs worden breed toegepast in verschillende domeinen van de bioinformatica, maar ook bijvoorbeeld in spraakherkenning en natuurlijke taalverwerking of financiële modellering van markttendensen.\n",
    "\n",
    "Hidden Markov Models zijn zeer geschikt voor de detectie van CpG-eilandjes vanwege hun vermogen om sequenties te modelleren en patronen te herkennen in biologische data. In het kader van CpG-eilandjes vormen de verschillende nucleotiden in het DNA de waargenomen data, en is de aanwezigheid van een CpG-eiland, al dan niet, de verborgen toestand. Door het toepassen van HMMs kunnen wetenschappers efficiënt de locatie van CpG-eilandjes bepalen, wat waardevolle inzichten biedt in genregulatie en kankeronderzoek.\n",
    "\n",
    "<img src=\"https://www.researchgate.net/profile/Tomer-Toledo/publication/245563174/figure/fig1/AS:669081116094471@1536532777801/State-transition-diagram-of-a-hidden-Markov-model.png\" width=\"40%\" height=\"40%\" />\n",
    "\n",
    "Een HMM wordt gekarakteriseerd door de volgende eigenschappen:\n",
    "\n",
    "* **Toestanden / States** Een gegeven aantal verschillende verborgen interne toestanden waarin een geobserveerd systeem zich kan bevinden. In de context van CpG-eilandjesdetectie kunnen de toestanden bijvoorbeeld \"in een CpG-eiland\" en \"buiten een CpG-eiland\" zijn.\n",
    "\n",
    "* **Overgangswaarschijnlijkheden / Transition probabilities** De kans dat het systeem van de ene toestand naar de andere overgaat. Bijvoorbeeld, de kansen om van \"buiten een CpG-eiland\" naar \"in een CpG-eiland\" te veranderen, en omgekeerd, of de kansen om binnen dezelfde toestand te blijven.\n",
    "\n",
    "* **Emissiekansen / Emission probabilities** De kans om een bepaalde uitkomst te observeren vanuit een gegeven toestand. Voor CpG-eilandjes zijn dit de kansen van het voorkomen van verschillende nucleotiden (A, T, C, G) zowel in als buiten de eilandjes.\n",
    "\n",
    "* **Begintoestandsverdeling / Start probabilities** De initiële waarschijnlijkheden dat het systeem dat zich in een bepaalde toestand bevindt. Een DNA-sequentie kan met zekere kans beginnen met een CpG-eilandje, of niet.\n",
    "\n",
    "Een HMM maakt, net als elk model, diverse aannamen die de analyse van gegevens vereenvoudigen. De belangrijkste aannamen van een HMM zijn dat (1) het waargenomen systeem zich alléén in een discreet (d.w.z. eindig) aantal verschillende toestanden kan bevinden die variëren in de loop van de reeks, (2) dat de waarnemingen die aan het systeem gedaan worden alléén afhangen van de huidige toestand van het systeem, en (3) dat de kansverdeling omtrent wat de toestand van het systeem op een volgend moment gaat zijn alléén afhangt van wat de toestand van het systeem op een voorgaand moment was.\n",
    "\n",
    "De toestand van het systeem is zelf niet rechtstreeks waarneembaar; wel waarneembaar zijn de emissies die afhangen van de toestand. De meestgestelde vraag die een HMM kan proberen te beantwoorden is: \"gegeven een serie waarnemingen, wat waren de meest waarschijnlijke onderliggende toestanden van het systeem\"? Bijvoorbeeld, in ons geval: \"gegeven een nucleotidesequentie, welke delen vallen in een CpG-eiland en welke vallen erbuiten\"?\n",
    "\n",
    "Bekijk onderstaande inleidende video en schrijf er een samenvatting van. Zoek zo nodig zelf uitgebreidere achtergrondinformatie over onbekende onderwerpen en vermeld deze bronnen in je samenvatting als referenties. Neem onder andere de bijbehorende [Wikipedia](https://en.wikipedia.org/wiki/Hidden_Markov_model) pagina door."
   ]
  },
  {
   "cell_type": "code",
   "execution_count": 4,
   "id": "7342e446",
   "metadata": {
    "scrolled": true
   },
   "outputs": [
    {
     "data": {
      "text/html": [
       "<iframe width=\"560\" height=\"315\" src=\"https://www.youtube.com/embed/fX5bYmnHqqE\" title=\"YouTube video player\" frameborder=\"0\" allow=\"accelerometer; autoplay; clipboard-write; encrypted-media; gyroscope; picture-in-picture; web-share\" referrerpolicy=\"strict-origin-when-cross-origin\" allowfullscreen></iframe>\n"
      ],
      "text/plain": [
       "<IPython.core.display.HTML object>"
      ]
     },
     "metadata": {},
     "output_type": "display_data"
    }
   ],
   "source": [
    "%%html\n",
    "<iframe width=\"560\" height=\"315\" src=\"https://www.youtube.com/embed/fX5bYmnHqqE\" title=\"YouTube video player\" frameborder=\"0\" allow=\"accelerometer; autoplay; clipboard-write; encrypted-media; gyroscope; picture-in-picture; web-share\" referrerpolicy=\"strict-origin-when-cross-origin\" allowfullscreen></iframe>"
   ]
  },
  {
   "cell_type": "markdown",
   "id": "148b259a",
   "metadata": {},
   "source": [
    "## *Hidden markov model*\n",
    "Benodigd voor het gebruik van dit model zijn er observeerbare toestanden, observe states, nodig. En de observeerbare toestanden hebben een bekendk effect op een verborgen toestand, hidden state.\n",
    "\n",
    "Met behulpt van probabilitische toestanden te berekenen. Om te kunnen schatten welke verborgen toestanden het meest waarschijnlijk zijn.\n",
    "\n",
    "### transitions probability, hidden states\n",
    "De kans dat een hidden state naar een andere hidde state gaat. Deze toestanden zijn verborgen en niet waarneembaar. Maar wel toekenbaar. Hier is ook een start probabiltie aanwezig. dus de kans dat het van de start toeststand naar de andere hidden states gaat.\n",
    "\n",
    "### emision probability, observe states\n",
    "De kans dat de hidden state zich uit met de kansen voor de observe states. Deze toestanden zijn dus wel waarneembaar en dus de aanwezigheid van de observe states heeft een kans dat het de hidden state beinvloed.\n",
    "\n",
    "Dus de hidden states hebben een effect op de observe states, dit kan je buitenaf niet direct zien.\n",
    "\n",
    "### the model\n",
    "In het model wordt de hidden state bepaalt met de data dat de observed states bevat. De kans voor de volgende hidden state wordt alleen maar bepaalt met de laatste hidden state.\n",
    "\n",
    "De kans wordt berekend met behulp van de maximum likelyhood estimation\n",
    "maximize the probability the different variables occuring together. \n",
    "En schatting maken met de combinatie van de hidden states gebasseerd op de gegeven data van de observed states. \n",
    "\n",
    "Wordt gebruikt in natural language processing, elk word is een observed state en welke taal vorm het kan zijn is de hidden state.\n"
   ]
  },
  {
   "cell_type": "markdown",
   "id": "5d29da5e",
   "metadata": {},
   "source": [
    "<a id=\"3\" href=\"#0\" style=\"text-align: right; display: block;\">Terug naar boven</a>\n",
    "\n",
    "### CpG-eiland en non-CpG-eiland sequenties\n",
    "\n",
    "De onderstaande tabellen geven de experimentele waarschijnlijkheden aan dat een zekere nucleotide (in de rijen) gevolg wordt door een zekere andere nucleotide (in de kolommen) binnen en buiten CpG-eilanden.\n",
    "\n",
    "Bron: \"Biological sequence analysis - Probabilistic models of proteins and nucleic acids\", Durbin et al. (1998), hoofdstuk 3, p50-51 ([ref](http://www.mcb111.org/w06/durbin_book.pdf)).\n",
    "\n",
    "*CGI* (`+`)\n",
    "\n",
    "|  `+`  |   A   |   C   |   G   |   T   |\n",
    "| :---: | :---: | :---: | :---: | :---: |\n",
    "| **A** | 0.180 | 0.274 | 0.426 | 0.120 |\n",
    "| **C** | 0.171 | 0.368 | 0.274 | 0.188 |\n",
    "| **G** | 0.161 | 0.339 | 0.375 | 0.125 |\n",
    "| **T** | 0.079 | 0.355 | 0.384 | 0.182 |\n",
    "\n",
    "*non-CGI* (`-`)\n",
    "\n",
    "|  `-`  |   A   |   C   |   G   |   T   |\n",
    "| :---: | :---: | :---: | :---: | :---: |\n",
    "| **A** | 0.300 | 0.205 | 0.285 | 0.210 |\n",
    "| **C** | 0.322 | 0.298 | 0.078 | 0.302 |\n",
    "| **G** | 0.248 | 0.246 | 0.298 | 0.208 |\n",
    "| **T** | 0.177 | 0.239 | 0.292 | 0.292 |\n",
    "\n",
    "Bijvoorbeeld, de kans dat een gegeven C gevolgd wordt door een G is slechts 7.8 % buiten een CpG-eilandje, maar neemt toe tot maar liefst 27.4 % binnen een CpG-eilandje, hetgeen benadrukt hoe sterk CpG-dinucleotiden relatief oververtegenwoordigd zijn binnen CpG-eilandjes. Ga na dat de som van de kansen in elke rij van de tabel moet sommeren tot 100% (op afrondfouten na).\n",
    "\n",
    "Genereer met python-code een willekeurige sequentie van 300 baseparen lengte overeenkomend met een CpG-eiland en een soortgelijke sequentie van een non-CpG-eiland. Kies telkens het eerste nucleotide willekeurig, en gebruik dan de bovenstaande overgangswaarschijnlijkheden om de sequentie te verlengen. Bepaal van de gegenereerde complete sequenties de kansen op elk nucleotide ($P_A, P_C, P_G, P_T$) evenals de kansen op elk dinucleotide ($P_{AA}, P_{AC}, \\ldots, P_{TT}$). Bepaal voor elk dinucleotide ook de ratios $r$ tussen de waargenomen en de verwachte kans, zoals\n",
    "\n",
    "$$\n",
    "r_{AC} = \\frac{P_{AC}}{P_A \\cdot P_C}\n",
    "$$\n",
    "\n",
    "Wat kun je verhoudingsgewijs zeggen over hoe vaak C en G afzonderlijk voorkomen, en hoe vaak het CpG-dinucleotide voorkomt? Welke combinaties van nucleotiden zijn het sterkst over- of ondergerepresenteerd?"
   ]
  },
  {
   "cell_type": "code",
   "execution_count": 5,
   "id": "726056a7",
   "metadata": {},
   "outputs": [
    {
     "name": "stdout",
     "output_type": "stream",
     "text": [
      "['C', 'A', 'G', 'G', 'C', 'C', 'G', 'T', 'G', 'C', 'G', 'A', 'T', 'C', 'T', 'G', 'C', 'G', 'G', 'G', 'T', 'A', 'C', 'A', 'A', 'A', 'A', 'A', 'A', 'G', 'G', 'A', 'T', 'C', 'A', 'T', 'A', 'A', 'C', 'G', 'C', 'C', 'G', 'A', 'G', 'C', 'A', 'G', 'A', 'G', 'G', 'T', 'G', 'G', 'C', 'G', 'T', 'T', 'T', 'C', 'A', 'T', 'T', 'C', 'C', 'C', 'G', 'T', 'T', 'T', 'A', 'C', 'A', 'G', 'G', 'G', 'C', 'C', 'G', 'G', 'A', 'C', 'A', 'T', 'A', 'C', 'G', 'T', 'C', 'G', 'A', 'C', 'A', 'G', 'A', 'G', 'A', 'A', 'A', 'T', 'A', 'G', 'G', 'C', 'T', 'A', 'G', 'C', 'A', 'C', 'G', 'A', 'C', 'T', 'G', 'A', 'T', 'A', 'T', 'A', 'T', 'T', 'A', 'T', 'T', 'G', 'C', 'G', 'G', 'A', 'T', 'T', 'A', 'A', 'A', 'G', 'C', 'A', 'T', 'A', 'G', 'T', 'A', 'C', 'G', 'C', 'C', 'C', 'G', 'C', 'G', 'G', 'A', 'T', 'A', 'G', 'A', 'G', 'T', 'C', 'C', 'G', 'C', 'G', 'T', 'A', 'A', 'C', 'C', 'A', 'G', 'T', 'C', 'G', 'G', 'T', 'C', 'G', 'A', 'A', 'C', 'G', 'A', 'A', 'T', 'C', 'C', 'G', 'T', 'A', 'G', 'T', 'T', 'C', 'C', 'A', 'T', 'C', 'A', 'A', 'G', 'T', 'C', 'C', 'A', 'T', 'A', 'T', 'C', 'G', 'T', 'G', 'T', 'C', 'G', 'C', 'G', 'G', 'C', 'A', 'A', 'A', 'A', 'A', 'T', 'T', 'T', 'T', 'T', 'A', 'A', 'T', 'T', 'T', 'A', 'G', 'G', 'T', 'G', 'G', 'G', 'G', 'G', 'G', 'T', 'C', 'G', 'T', 'T', 'G', 'T', 'T', 'T', 'C', 'A', 'A', 'T', 'C', 'G', 'A', 'A', 'G', 'T', 'T', 'C', 'T', 'G', 'C', 'G', 'C', 'A', 'A', 'C', 'G', 'C', 'C', 'G', 'T', 'A', 'T', 'A', 'A', 'T', 'T', 'C', 'G', 'G', 'C', 'T', 'T', 'G', 'G', 'A', 'A', 'G', 'C', 'A', 'A', 'T', 'A']\n"
     ]
    }
   ],
   "source": [
    "import random\n",
    "\n",
    "nucleotides = ['A', 'C', 'T', 'G']\n",
    "\n",
    "def sequence_appender(nucleotides,sequence = [random.choice(nucleotides)]): #sequence = [random.choice(nucleotides)] zorgt er voor dat beide prints hetzelfde returnen, dit wiped sequence\n",
    "    if len(sequence) == 300:\n",
    "        return sequence\n",
    "    \n",
    "    if sequence[-1] == 'A':\n",
    "        sequence += random.choices(\n",
    "        nucleotides, (0.300, 0.205, 0.285, 0.210), k=1)\n",
    "    elif sequence[-1] == 'C':\n",
    "        sequence += random.choices(\n",
    "        nucleotides, (0.322, 0.298, 0.078, 0.302), k=1)\n",
    "    elif sequence[-1] == 'G':\n",
    "        sequence += random.choices(\n",
    "        nucleotides, (0.248, 0.246, 0.298, 0.208), k=1)\n",
    "    elif sequence[-1] == 'G':\n",
    "        sequence += random.choices(\n",
    "        nucleotides, (0.177, 0.239, 0.292, 0.292), k=1)\n",
    "    else:\n",
    "        sequence += random.choice(nucleotides)\n",
    "    return sequence_appender(nucleotides,sequence)\n",
    "\n",
    "sequence_inside_CpG = sequence_appender(nucleotides)\n",
    "print(sequence_inside_CpG)"
   ]
  },
  {
   "cell_type": "code",
   "execution_count": 6,
   "id": "078977d4",
   "metadata": {},
   "outputs": [
    {
     "name": "stdout",
     "output_type": "stream",
     "text": [
      "['A', 'T', 'T', 'A', 'A', 'T', 'C', 'A', 'C', 'A', 'C', 'A', 'A', 'C', 'C', 'C', 'G', 'T', 'A', 'C', 'A', 'T', 'C', 'T', 'C', 'C', 'C', 'G', 'T', 'G', 'A', 'C', 'G', 'C', 'G', 'A', 'G', 'G', 'G', 'T', 'A', 'C', 'G', 'T', 'C', 'T', 'T', 'G', 'A', 'G', 'C', 'T', 'C', 'C', 'A', 'T', 'A', 'A', 'T', 'C', 'A', 'T', 'G', 'T', 'G', 'G', 'C', 'T', 'C', 'T', 'A', 'T', 'G', 'T', 'C', 'C', 'T', 'C', 'G', 'A', 'T', 'T', 'C', 'C', 'C', 'C', 'G', 'A', 'T', 'C', 'G', 'G', 'C', 'A', 'G', 'A', 'C', 'A', 'T', 'C', 'G', 'G', 'C', 'T', 'A', 'C', 'C', 'C', 'C', 'T', 'T', 'A', 'T', 'G', 'A', 'A', 'T', 'A', 'A', 'A', 'C', 'C', 'C', 'C', 'T', 'T', 'C', 'A', 'C', 'T', 'A', 'T', 'G', 'T', 'T', 'G', 'T', 'A', 'T', 'G', 'C', 'C', 'A', 'T', 'A', 'G', 'C', 'A', 'T', 'G', 'G', 'C', 'C', 'A', 'T', 'G', 'C', 'C', 'C', 'G', 'T', 'G', 'C', 'T', 'T', 'G', 'T', 'A', 'G', 'T', 'A', 'C', 'A', 'A', 'C', 'G', 'C', 'C', 'T', 'G', 'A', 'T', 'T', 'A', 'T', 'A', 'T', 'G', 'T', 'C', 'C', 'C', 'C', 'C', 'C', 'C', 'C', 'T', 'A', 'A', 'T', 'A', 'T', 'A', 'T', 'G', 'T', 'T', 'T', 'A', 'T', 'A', 'T', 'G', 'G', 'C', 'C', 'T', 'G', 'A', 'A', 'T', 'T', 'T', 'A', 'C', 'C', 'T', 'C', 'T', 'G', 'C', 'C', 'C', 'A', 'T', 'G', 'A', 'T', 'C', 'C', 'A', 'T', 'A', 'C', 'A', 'C', 'C', 'T', 'T', 'C', 'A', 'A', 'T', 'G', 'T', 'A', 'T', 'T', 'A', 'C', 'C', 'A', 'T', 'G', 'C', 'G', 'A', 'C', 'G', 'G', 'T', 'A', 'C', 'C', 'C', 'C', 'A', 'T', 'G', 'T', 'T', 'C', 'T', 'G', 'A', 'A', 'T', 'G', 'C', 'G', 'C', 'A', 'A', 'C', 'G', 'T', 'C', 'G', 'T']\n"
     ]
    }
   ],
   "source": [
    "def sequence_appender(nucleotides,sequence = [random.choice(nucleotides)]): #sequence = [random.choice(nucleotides)] zorgt er voor dat beide prints hetzelfde returnen, dit wiped sequence\n",
    "    if len(sequence) == 300:\n",
    "        return sequence\n",
    "\n",
    "    if sequence[-1] == 'A':\n",
    "        sequence += random.choices(\n",
    "        nucleotides, (0.180, 0.274, 0.426, 0.120), k=1)\n",
    "    elif sequence[-1] == 'C':\n",
    "        sequence += random.choices(\n",
    "        nucleotides, (0.171, 0.368, 0.274, 0.188), k=1)\n",
    "    elif sequence[-1] == 'G':\n",
    "        sequence += random.choices(\n",
    "        nucleotides, (0.161, 0.339, 0.375, 0.125), k=1)\n",
    "    elif sequence[-1] == 'G':\n",
    "        sequence += random.choices(\n",
    "        nucleotides, (0.079, 0.355, 0.384, 0.182), k=1)\n",
    "    else:\n",
    "        sequence += random.choice(nucleotides)\n",
    "    return sequence_appender(nucleotides,sequence)\n",
    "\n",
    "sequence_outside_CpG = sequence_appender(nucleotides)\n",
    "print(sequence_outside_CpG)"
   ]
  },
  {
   "cell_type": "code",
   "execution_count": 9,
   "id": "d5910e78",
   "metadata": {},
   "outputs": [
    {
     "name": "stdout",
     "output_type": "stream",
     "text": [
      "Inside CpG:  Pᴬ:0.27, Pᶜ:0.22, Pᴳ:0.27, Pᵀ0.24\n",
      "Outside CpG:  Pᴬ:0.23, Pᶜ:0.3, Pᴳ:0.18, Pᵀ0.28\n",
      "Dinucleotides inside CpG: {'AA': 0.25, 'AC': 0.12, 'AT': 0.23, 'AG': 0.2, 'CA': 0.18, 'CC': 0.13, 'CT': 0.05, 'CG': 0.3, 'TA': 0.21, 'TC': 0.19, 'TT': 0.21, 'TG': 0.1, 'GA': 0.17, 'GC': 0.21, 'GT': 0.22, 'GG': 0.22}\n",
      "Dinucleotides outside CpG: {'AA': 0.12, 'AC': 0.19, 'AT': 0.34, 'AG': 0.05, 'CA': 0.2, 'CC': 0.37, 'CT': 0.18, 'CG': 0.16, 'TA': 0.25, 'TC': 0.19, 'TT': 0.15, 'TG': 0.25, 'GA': 0.12, 'GC': 0.16, 'GT': 0.18, 'GG': 0.08}\n"
     ]
    }
   ],
   "source": [
    "A_inside = sequence_inside_CpG.count('A')/300\n",
    "C_inside = sequence_inside_CpG.count('C')/300\n",
    "G_inside = sequence_inside_CpG.count('G')/300\n",
    "T_inside = sequence_inside_CpG.count('T')/300\n",
    "print(f\"Inside CpG:  Pᴬ:{round(A_inside, 2)}, Pᶜ:{round(C_inside, 2)}, Pᴳ:{round(G_inside, 2)}, Pᵀ{round(T_inside, 2)}\")\n",
    "A_outside = sequence_outside_CpG.count('A')/300\n",
    "C_outside = sequence_outside_CpG.count('C')/300\n",
    "G_outside = sequence_outside_CpG.count('G')/300\n",
    "T_outside = sequence_outside_CpG.count('T')/300\n",
    "print(f\"Outside CpG:  Pᴬ:{round(A_outside, 2)}, Pᶜ:{round(C_outside, 2)}, Pᴳ:{round(G_outside, 2)}, Pᵀ{round(T_outside, 2)}\")\n",
    "\n",
    "dinucleotides_inside_CpG = {'AA':0,'AC':0,'AT':0,'AG':0,'CA':0,'CC':0,'CT':0,'CG':0,'TA':0,'TC':0,'TT':0,'TG':0,'GA':0,'GC':0,'GT':0,'GG':0}\n",
    "dinucleotides_outside_CpG = {'AA':0,'AC':0,'AT':0,'AG':0,'CA':0,'CC':0,'CT':0,'CG':0,'TA':0,'TC':0,'TT':0,'TG':0,'GA':0,'GC':0,'GT':0,'GG':0}\n",
    "\n",
    "for i in range(299):\n",
    "    dinucleotides_inside_CpG[''.join(sequence_inside_CpG[i:i+2])] += 1\n",
    "for i in dinucleotides_inside_CpG.keys():\n",
    "    dinucleotides_inside_CpG[i]/=100\n",
    "print('Dinucleotides inside CpG:',dinucleotides_inside_CpG)\n",
    "\n",
    "for i in range(299):\n",
    "    dinucleotides_outside_CpG[''.join(sequence_outside_CpG[i:i+2])] += 1\n",
    "for i in dinucleotides_outside_CpG.keys():\n",
    "    dinucleotides_outside_CpG[i]/=100\n",
    "print('Dinucleotides outside CpG:',dinucleotides_outside_CpG)\n",
    "\n"
   ]
  },
  {
   "cell_type": "code",
   "execution_count": 12,
   "id": "75ccd1ce",
   "metadata": {},
   "outputs": [
    {
     "name": "stdout",
     "output_type": "stream",
     "text": [
      "Dinucleotide Ratios Inside CpG: {'AA': 3.43, 'AC': 2.02, 'AT': 3.6, 'AG': 2.71, 'CA': 3.03, 'CC': 2.69, 'CT': 0.96, 'CG': 4.99, 'TA': 3.29, 'TC': 3.65, 'TT': 3.75, 'TG': 1.55, 'GA': 2.3, 'GC': 3.49, 'GT': 3.4, 'GG': 2.94}\n",
      "Dinucleotide Ratios Outside CpG: {'AA': 2.2, 'AC': 2.68, 'AT': 5.14, 'AG': 1.19, 'CA': 2.83, 'CC': 4.02, 'CT': 2.09, 'CG': 2.93, 'TA': 3.78, 'TC': 2.21, 'TT': 1.87, 'TG': 4.9, 'GA': 2.86, 'GC': 2.93, 'GT': 3.53, 'GG': 2.47}\n"
     ]
    }
   ],
   "source": [
    "ratios_inside_CpG = {}\n",
    "ratios_outside_CpG = {}\n",
    "\n",
    "for dinucleotide, observed_frequency in dinucleotides_inside_CpG.items():\n",
    "    nucleotide1, nucleotide2 = dinucleotide[0], dinucleotide[1]\n",
    "    expected_frequency = (\n",
    "        sequence_inside_CpG.count(nucleotide1) / 300 * sequence_inside_CpG.count(nucleotide2) / 300\n",
    "    )\n",
    "    ratios_inside_CpG[dinucleotide] = round(observed_frequency / expected_frequency, 2)\n",
    "\n",
    "print('Dinucleotide Ratios Inside CpG:', ratios_inside_CpG)\n",
    "\n",
    "for dinucleotide, observed_frequency in dinucleotides_outside_CpG.items():\n",
    "    nucleotide1, nucleotide2 = dinucleotide[0], dinucleotide[1]\n",
    "    expected_frequency = (\n",
    "        sequence_outside_CpG.count(nucleotide1) / 300 * sequence_outside_CpG.count(nucleotide2) / 300\n",
    "    )\n",
    "    ratios_outside_CpG[dinucleotide] = round(observed_frequency / expected_frequency, 2)\n",
    "\n",
    "print('Dinucleotide Ratios Outside CpG:', ratios_outside_CpG)\n"
   ]
  },
  {
   "cell_type": "markdown",
   "id": "1a845977",
   "metadata": {},
   "source": [
    "<a id=\"4\" href=\"#0\" style=\"text-align: right; display: block;\">Terug naar boven</a>\n",
    "\n",
    "### Toy-data\n",
    "\n",
    "Gegeven zijn drie tafels (overeenkomend met toestanden) die elk een grabbelton bevatten waaruit gekleurde knikkers kunnen worden getrokken (emissies) en met elk een dobbelsteen die bepaalt naar welke volgende tafel je gaat (overgangswaarschijnlijkheden).\n",
    "\n",
    "| Tafel: |  ❶  |  ❷  |  ❸  |\n",
    "| -----: | :-: | :-: | :-: |\n",
    "| **Grabbelton:** | 6x blauw | 2x blauw | 1x blauw |\n",
    "|                 | 3x geel  | 6x geel  | 0x geel  | \n",
    "|                 | 1x groen | 2x groen | 6x groen |\n",
    "|                 | 2x rood  | 2x rood  | 5x rood  |\n",
    "| **Dobbelsteen:** | ⚀→① | ⚀→① | ⚀→① |\n",
    "|                  | ⚁→② | ⚁→② | ⚁→① |\n",
    "|                  | ⚂→② | ⚂→② | ⚂→① |\n",
    "|                  | ⚃→② | ⚃→③ | ⚃→① |\n",
    "|                  | ⚄→③ | ⚄→③ | ⚄→② |\n",
    "|                  | ⚅→③ | ⚅→③ | ⚅→③ |\n",
    "\n",
    "Beginnend bij een willekeurige tafel, trek individueel een knikker en noteer de kleur samen met het nummer van de tafel. Gebruik de dobbelsteen om te bepalen naar welke volgende tafel je gaat. Herhaal dit tot je ongeveer een dertigtal waarnemingen hebt gegenereerd en je weer precies terug bent gekomen bij de tafel waar je was begonnen.\n",
    "\n",
    "Bijvoorbeeld:\n",
    "| **Beurt:** | 1     | 2     | 3     | 4     | 5     | 6     | 7     | ... | 30    |\n",
    "| ---------: | :---: | :---: | :---: | :---: | :---: | :---: | :---: | :-: | :---: |\n",
    "| **Tafel:** | ❷     | ❸     | ❶     | ❸     | ❷     | ❷     | ❶     | ... | ❸     |\n",
    "| **Kleur:** | geel  | groen | blauw | rood  | groen | geel  | blauw | ... | rood  |\n",
    "| **Worp:**  | ⚃     | ⚀     | ⚄     | ⚄     | ⚂     | ⚀     | ⚂     | ... | ⚄     |\n",
    "\n",
    "Naast het bepalen van je eigen sequentie, combineer de waarnemingen van al je klasgenoten tot één lange sequentie."
   ]
  },
  {
   "cell_type": "markdown",
   "id": "65e4c54a",
   "metadata": {},
   "source": [
    "<a id=\"5\" href=\"#0\" style=\"text-align: right; display: block;\">Terug naar boven</a>\n",
    "\n",
    "### Je eigen `HiddenMarkovModel` class\n",
    "\n",
    "Maak een eigen module-bestand genaamd `hmmmodel.py` aan en definieer daarin een klasse `HiddenMarkovModel`. Deze klasse dient een begintoestandsverdeling, overgangswaarschijnlijkheden, en emissiekansen te kunnen bevatten. De klasse dient verder een methode `sample()` te hebben die het mogelijk maakt om een gevraagd aantal waarnemingen te genereren op basis van een gegeven Hidden Markov Model. Voeg implementaties van een aantal standaard dunder-methoden toe (`__init__()`, `__str__()`, `__repr__()`).\n",
    "\n",
    "Implementeer de functionaliteit van je eigen module zodanig dat deze grotendeels compatibel is met de `CategoricalHMM` klasse van de `hmmlearn` module waarvan je de documentatie [online](https://hmmlearn.readthedocs.io/en/latest/api.html#categoricalhmm) kan vinden. Deze module zit niet in de standaard library van python en dien je zelf wellicht nog te installeren. Merk op dat niet alle functionaliteit uit deze klasse hoeft te worden geïmplementeerd. Vooralsnog gaat het voornamelijk om initialisatie en de `sample()` methode. Later voegen we nog meer methoden aan je klasse toe.\n",
    "\n",
    "Gebruik je eigen module om sequenties van 1200 toestanden en bijbehorende waarnemingen te genereren voor de eerdere toy-data. De tafelnummers zijn daarin de toestanden en de kleuren knikkers zijn de emissies. Dit zou moeten kunnen met code zoals hieronder.\n",
    "\n",
    "```python\n",
    "from hmmmodel import HiddenMarkovModel as HMM\n",
    "model = HMM(n_components=..., n_features=...)\n",
    "model.startprob_ = ...\n",
    "model.transmat_ = ...\n",
    "model.emissionprob_ = ...\n",
    "emissions, states = model.sample(1200)\n",
    "print(model)\n",
    "```\n",
    "\n",
    "Toon histogrammen van de toestanden en emissies voor al deze sequenties, en schat *op basis van de gegenereerde sequentie* de overgangswaarschijnlijkheden en emissiekansen. Ga na of deze goed overeenkomen met de instellingen van het Hidden Markov Model.\n",
    "\n",
    "Vergelijk tenslotte of je eigen klasse soortgelijke resultaten geeft als `hmmlearn.hmm.CategoricalHMM` (d.w.z. met soortgelijke code als hierboven, maar met `from hmmlearn.hmm import CategoricalHMM as HMM`)."
   ]
  },
  {
   "cell_type": "code",
   "execution_count": 22,
   "id": "1ec31b62",
   "metadata": {},
   "outputs": [
    {
     "name": "stdout",
     "output_type": "stream",
     "text": [
      "HiddenMarkovModel(n_components=3, n_features=3)\n"
     ]
    },
    {
     "data": {
      "image/png": "[encoded data removed]",
      "text/plain": [
       "<Figure size 1200x600 with 2 Axes>"
      ]
     },
     "metadata": {},
     "output_type": "display_data"
    },
    {
     "name": "stdout",
     "output_type": "stream",
     "text": [
      "Geschatte overgangsmatrix:\n",
      "[[0.70680628 0.20767888 0.08551483]\n",
      " [0.30126582 0.52151899 0.17721519]\n",
      " [0.20779221 0.3030303  0.48917749]]\n",
      "Geschatte emissiematrix:\n",
      "[[0.4973822  0.38917976 0.11343805]\n",
      " [0.10886076 0.29873418 0.59240506]\n",
      " [0.1637931  0.19396552 0.64224138]]\n"
     ]
    }
   ],
   "source": [
    "import matplotlib.pyplot as plt\n",
    "from hmmmodel import HiddenMarkovModel as HMM\n",
    "\n",
    "# Initialiseer het Hidden Markov Model\n",
    "n_components = 3  # Aantal toestanden\n",
    "n_features = 3    # Aantal emissies\n",
    "model = HMM(n_components=n_components, n_features=n_features)\n",
    "\n",
    "# Definieer de begintoestand, overgangswaarschijnlijkheden en emissiekansen\n",
    "model.startprob_ = np.array([0.6, 0.3, 0.1])\n",
    "model.transmat_ = np.array([\n",
    "    [0.7, 0.2, 0.1],\n",
    "    [0.3, 0.5, 0.2],\n",
    "    [0.2, 0.3, 0.5]\n",
    "])\n",
    "model.emissionprob_ = np.array([\n",
    "    [0.5, 0.4, 0.1],\n",
    "    [0.1, 0.3, 0.6],\n",
    "    [0.2, 0.2, 0.6]\n",
    "])\n",
    "\n",
    "# Genereer een sequentie\n",
    "emissions, states = model.sample(1200)\n",
    "\n",
    "# Toon het model\n",
    "print(model)\n",
    "\n",
    "# Plot histogrammen\n",
    "plt.figure(figsize=(12, 6))\n",
    "\n",
    "plt.subplot(1, 2, 1)\n",
    "plt.hist(states, bins=n_components, align='left', rwidth=0.8)\n",
    "plt.title('Histogram van toestanden')\n",
    "plt.xlabel('Toestand')\n",
    "plt.ylabel('Frequentie')\n",
    "\n",
    "plt.subplot(1, 2, 2)\n",
    "plt.hist(emissions, bins=n_features, align='left', rwidth=0.8)\n",
    "plt.title('Histogram van emissies')\n",
    "plt.xlabel('Emissie')\n",
    "plt.ylabel('Frequentie')\n",
    "\n",
    "plt.tight_layout()\n",
    "plt.show()\n",
    "\n",
    "def estimate_transition_matrix(states, n_components):\n",
    "    counts = np.zeros((n_components, n_components))\n",
    "    for (i, j) in zip(states[:-1], states[1:]):\n",
    "        counts[i, j] += 1\n",
    "    return counts / counts.sum(axis=1, keepdims=True)\n",
    "\n",
    "def estimate_emission_matrix(states, emissions, n_components, n_features):\n",
    "    counts = np.zeros((n_components, n_features))\n",
    "    for state, emission in zip(states, emissions):\n",
    "        counts[state, emission] += 1\n",
    "    return counts / counts.sum(axis=1, keepdims=True)\n",
    "\n",
    "# Schat de overgangs- en emissiematrices\n",
    "transmat_est = estimate_transition_matrix(states, n_components)\n",
    "emissionprob_est = estimate_emission_matrix(states, emissions, n_components, n_features)\n",
    "\n",
    "print(\"Geschatte overgangsmatrix:\")\n",
    "print(transmat_est)\n",
    "print(\"Geschatte emissiematrix:\")\n",
    "print(emissionprob_est)\n"
   ]
  },
  {
   "cell_type": "markdown",
   "id": "0a939ddc",
   "metadata": {},
   "source": [
    "***\n",
    "\n",
    "&copy; 2024 - Dave R.M. Langers <d.r.m.langers@pl.hanze.nl>"
   ]
  }
 ],
 "metadata": {
  "kernelspec": {
   "display_name": "usr",
   "language": "python",
   "name": "python3"
  },
  "language_info": {
   "codemirror_mode": {
    "name": "ipython",
    "version": 3
   },
   "file_extension": ".py",
   "mimetype": "text/x-python",
   "name": "python",
   "nbconvert_exporter": "python",
   "pygments_lexer": "ipython3",
   "version": "3.11.2"
  },
  "varInspector": {
   "cols": {
    "lenName": 16,
    "lenType": 16,
    "lenVar": 40
   },
   "kernels_config": {
    "python": {
     "delete_cmd_postfix": "",
     "delete_cmd_prefix": "del ",
     "library": "var_list.py",
     "varRefreshCmd": "print(var_dic_list())"
    },
    "r": {
     "delete_cmd_postfix": ") ",
     "delete_cmd_prefix": "rm(",
     "library": "var_list.r",
     "varRefreshCmd": "cat(var_dic_list()) "
    }
   },
   "types_to_exclude": [
    "module",
    "function",
    "builtin_function_or_method",
    "instance",
    "_Feature"
   ],
   "window_display": false
  }
 },
 "nbformat": 4,
 "nbformat_minor": 5
}
