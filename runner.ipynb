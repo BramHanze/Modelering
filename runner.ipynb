{
 "cells": [
  {
   "cell_type": "code",
   "execution_count": 1,
   "metadata": {},
   "outputs": [],
   "source": [
    "import differential as diff\n",
    "import numpy as np\n",
    "import pandas as pd\n",
    "\n",
    "ts = [\n",
    "    3.46,  4.58,  5.67,  6.64,  7.63,  8.41,  9.32, 10.27, 11.19,\n",
    "    12.39, 13.42, 15.19, 16.24, 17.23, 18.18, 19.29, 21.23, 21.99,\n",
    "    24.33, 25.58, 26.43, 27.44, 28.43, 30.49, 31.34, 32.34, 33.00,\n",
    "    35.20, 36.34, 37.29, 38.50, 39.67, 41.37, 42.58, 45.39, 46.38,\n",
    "    48.29, 49.24, 50.19, 51.14, 52.10, 54.00, 56.33, 57.33, 59.38,\n",
    "]\n",
    "Vs = [\n",
    "    0.0158, 0.0264, 0.0326, 0.0445, 0.0646, 0.0933, 0.1454, 0.2183, 0.2842,\n",
    "    0.4977, 0.6033, 0.8441, 1.2163, 1.4470, 2.3298, 2.5342, 3.0064, 3.4044,\n",
    "    3.2046, 4.5241, 4.3459, 5.1374, 5.5376, 4.8946, 5.0660, 6.1494, 6.8548,\n",
    "    5.9668, 6.6945, 6.6395, 6.8971, 7.2966, 7.2268, 6.8815, 8.0993, 7.2112,\n",
    "    7.0694, 7.4971, 6.9974, 6.7219, 7.0523, 7.1095, 7.0694, 8.0562, 7.2268, \n",
    "]\n",
    "\n",
    "n = len(ts)"
   ]
  },
  {
   "cell_type": "code",
   "execution_count": 2,
   "metadata": {},
   "outputs": [
    {
     "ename": "ValueError",
     "evalue": "too many values to unpack (expected 3)",
     "output_type": "error",
     "traceback": [
      "\u001b[0;31m---------------------------------------------------------------------------\u001b[0m",
      "\u001b[0;31mValueError\u001b[0m                                Traceback (most recent call last)",
      "Cell \u001b[0;32mIn [2], line 1\u001b[0m\n\u001b[0;32m----> 1\u001b[0m gompertz_mse, gompertz_ts, gompertz_Vs \u001b[38;5;241m=\u001b[39m diff\u001b[38;5;241m.\u001b[39mgompertz(ts, Vs)\n\u001b[1;32m      2\u001b[0m mendelsohn_mse, mendelsohn_ts, mendelsohn_Vs \u001b[38;5;241m=\u001b[39m diff\u001b[38;5;241m.\u001b[39mmendelsohn(ts, Vs)\n\u001b[1;32m      3\u001b[0m vb_mse, vb_ts, vb_Vs \u001b[38;5;241m=\u001b[39m diff\u001b[38;5;241m.\u001b[39mvon_bertalanffy(ts, Vs)\n",
      "\u001b[0;31mValueError\u001b[0m: too many values to unpack (expected 3)"
     ]
    }
   ],
   "source": [
    "gompertz_mse, gompertz_ts, gompertz_Vs = diff.gompertz(ts, Vs)\n",
    "mendelsohn_mse, mendelsohn_ts, mendelsohn_Vs = diff.mendelsohn(ts, Vs)\n",
    "vb_mse, vb_ts, vb_Vs = diff.von_bertalanffy(ts, Vs)\n",
    "linear_mse, linear_ts, linear_Vs = diff.linear_growth(ts, Vs)\n",
    "exponential_mse, exponential_ts, exponential_Vs = diff.exponential_growth(ts, Vs)\n",
    "allee_effect_mse, allee_effect_ts, allee_effect_Vs = diff.allee_effect(ts, Vs)\n",
    "\n",
    "models = [\n",
    "    {'name': 'Gompertz', 'x': gompertz_ts, 'y': gompertz_Vs, 'mse': gompertz_mse},\n",
    "    {'name': 'Mendelsohn', 'x': mendelsohn_ts, 'y': mendelsohn_Vs, 'mse': mendelsohn_mse},\n",
    "    {'name': 'Von Bertalanffy', 'x': vb_ts, 'y': vb_Vs, 'mse': vb_mse},\n",
    "    {'name': 'Linear Model', 'x': linear_ts, 'y': linear_Vs, 'mse': linear_mse},\n",
    "    {'name': 'Exponential Growth', 'x': exponential_ts, 'y': exponential_Vs, 'mse': exponential_mse},\n",
    "    {'name': 'Allee Effect Growth', 'x': allee_effect_ts, 'y': allee_effect_Vs, 'mse': allee_effect_mse}\n",
    "]\n",
    "\n",
    "for model in models:\n",
    "    rss = model['mse'] * n\n",
    "    ln_likelihood = -n / 2 * np.log(rss / n)\n",
    "    model['aic'] = 2 * len(models) - 2 * ln_likelihood\n",
    "for model in sorted(models, key=lambda x: x['aic']): #Display figures in the order of best  AIC\n",
    "    aic = model['aic']\n",
    "    print(f'Model: {model[\"name\"]}, AIC: {round(aic,6)}')\n",
    "\n",
    "    label = f'Fitted {model[\"name\"]} model'\n",
    "    title = f'Tumor Volume Growth {model[\"name\"]} Model (AIC = {round(aic,2)})'\n",
    "    diff.plot(ts,Vs,model['x'],model['y'],label,title)\n"
   ]
  },
  {
   "cell_type": "code",
   "execution_count": null,
   "metadata": {},
   "outputs": [],
   "source": [
    "results = {'model': [], 'formula': [], 'BIC': [], 'AIC': [], 'AICc': []}\n",
    "\n",
    "for model_function in [diff.gompertz, diff.mendelsohn, diff.von_bertalanffy, diff.linear_growth, diff.exponential_growth, diff.allee_effect]:\n",
    "    model_name = model_function.__name__.capitalize()\n",
    "    \n",
    "    mse, fitted_ts, fitted_Vs = model_function(ts, Vs)\n",
    "    \n",
    "    # Calculate AIC/BIC/AICc\n",
    "    n = len(ts)\n",
    "    k = 2\n",
    "    ln_mse = np.log(mse)\n",
    "    \n",
    "    aic = n * ln_mse + 2 * k\n",
    "    bic = k * ln_mse + np.log(n)\n",
    "    aicc = aic + (2 * k * n) / (n - k - 1) if n > k + 1 else aic\n",
    "\n",
    "    # Formulas per model\n",
    "    if model_name == \"Gompertz\":\n",
    "        formula = \"dV/dt = c * V * ln(Vmax / V)\"\n",
    "    elif model_name == \"Mendelsohn\":\n",
    "        formula = \"dV/dt = c * V^d\"\n",
    "    elif model_name == \"Von_bertalanffy\":\n",
    "        formula = \"dV/dt = c * V^(2/3) - d * V\"\n",
    "    elif model_name == \"Linear_growth\":\n",
    "        formula = \"dV/dt = c\"\n",
    "    elif model_name == \"Exponential_growth\":\n",
    "        formula = \"dV/dt = c * V\"\n",
    "    elif model_name == \"Allee_effect\":\n",
    "        formula = \"dV/dt = c * (V - Vmin) * (Vmax - V)\"\n",
    "    else:\n",
    "        formula = \"Onbekend\"\n",
    "\n",
    "    # Save results\n",
    "    results['model'].append(model_name)\n",
    "    results['formula'].append(formula)\n",
    "    results['BIC'].append(bic)\n",
    "    results['AIC'].append(aic)\n",
    "    results['AICc'].append(aicc)\n",
    "\n",
    "# Create DataFrame and sort\n",
    "pd.DataFrame(results).set_index('model').sort_values('BIC')\n"
   ]
  }
 ],
 "metadata": {
  "kernelspec": {
   "display_name": "usr",
   "language": "python",
   "name": "python3"
  },
  "language_info": {
   "codemirror_mode": {
    "name": "ipython",
    "version": 3
   },
   "file_extension": ".py",
   "mimetype": "text/x-python",
   "name": "python",
   "nbconvert_exporter": "python",
   "pygments_lexer": "ipython3",
   "version": "3.11.2"
  }
 },
 "nbformat": 4,
 "nbformat_minor": 2
}
