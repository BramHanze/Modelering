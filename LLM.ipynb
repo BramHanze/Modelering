{
 "cells": [
  {
   "cell_type": "code",
   "execution_count": 2,
   "metadata": {},
   "outputs": [
    {
     "data": {
      "text/plain": [
       "16545452"
      ]
     },
     "execution_count": 2,
     "metadata": {},
     "output_type": "execute_result"
    }
   ],
   "source": [
    "from sklearn.preprocessing import OneHotEncoder\n",
    "import numpy as np\n",
    "import gensim as gensim\n",
    "\n",
    "line = np.array('altijd november altijd regen altijd dit lege hart altijd'.split())\n",
    "enc = OneHotEncoder()\n",
    "data = enc.fit_transform(line.reshape(-1, 1))\n",
    "\n",
    "corpus = {'altijd':1, 'dit':2, 'hart':3, 'lege':4, 'november':5, 'regen':6}\n",
    "data = [corpus[k] for k in line]\n",
    "\n",
    "model_BioSentVec = gensim.models.KeyedVectors.load_word2vec_format('/data/datasets/thema10/BioSentVec.vec.bin', binary=True)\n",
    "\n",
    "#kijken of het model goed is geladen\n",
    "len(model_BioSentVec.key_to_index) #16545452\n"
   ]
  },
  {
   "cell_type": "code",
   "execution_count": 3,
   "metadata": {},
   "outputs": [
    {
     "name": "stdout",
     "output_type": "stream",
     "text": [
      "<class 'numpy.ndarray'>\n"
     ]
    },
    {
     "data": {
      "text/plain": [
       "(200,)"
      ]
     },
     "execution_count": 3,
     "metadata": {},
     "output_type": "execute_result"
    }
   ],
   "source": [
    "a = model_BioSentVec['cancer']\n",
    "b = model_BioSentVec['male']\n",
    "\n",
    "print(type(a))\n",
    "b.shape\n"
   ]
  },
  {
   "cell_type": "code",
   "execution_count": 15,
   "metadata": {},
   "outputs": [
    {
     "name": "stdout",
     "output_type": "stream",
     "text": [
      "0.30956107\n"
     ]
    }
   ],
   "source": [
    "def cosine_similarity(a,b):\n",
    "    dot_product = np.dot(a,b)\n",
    "    norm_vec1 = np.linalg.norm(a)\n",
    "    norm_vec2 = np.linalg.norm(b)\n",
    "    return dot_product / (norm_vec1 * norm_vec2)\n",
    "\n",
    "print(cosine_similarity(a,b))"
   ]
  },
  {
   "cell_type": "code",
   "execution_count": 5,
   "metadata": {},
   "outputs": [],
   "source": [
    "text = \"Breast cancers with HER2 amplification have a higher risk of CNS metastasis and poorer prognosis.\""
   ]
  },
  {
   "cell_type": "code",
   "execution_count": 17,
   "metadata": {},
   "outputs": [
    {
     "name": "stdout",
     "output_type": "stream",
     "text": [
      "['breast', 'cancers', 'her2', 'amplification', 'higher', 'risk', 'cns', 'metastasis', 'poorer', 'prognosis']\n"
     ]
    },
    {
     "name": "stderr",
     "output_type": "stream",
     "text": [
      "[nltk_data] Downloading package stopwords to\n",
      "[nltk_data]     /homes/blkoobs/nltk_data...\n",
      "[nltk_data]   Package stopwords is already up-to-date!\n"
     ]
    }
   ],
   "source": [
    "from nltk.corpus import stopwords\n",
    "import nltk\n",
    "nltk.download('stopwords')\n",
    "stop_words = set(stopwords.words('english'))\n",
    "import string\n",
    "\n",
    "def preprocess_sentence(text):\n",
    "    text = text.translate(str.maketrans('', '', string.punctuation))\n",
    "    text = text.lower().split()\n",
    "    \n",
    "    text = [token for token in text if token not in stop_words]\n",
    "\n",
    "    return text\n",
    "\n",
    "sentence = preprocess_sentence(text)\n",
    "print(sentence)\n"
   ]
  },
  {
   "cell_type": "code",
   "execution_count": 7,
   "metadata": {},
   "outputs": [],
   "source": [
    "def embed_sentence(sentence, model):\n",
    "    \"\"\"\n",
    "    Embed een zin door de gemiddelde vector van de woorden te nemen.\n",
    "    Woorden die niet in het model zitten, worden overgeslagen.\n",
    "    \"\"\"\n",
    "    words = sentence.split()  # Simpele tokenisatie\n",
    "    word_vectors = [model[word] for word in words if word in model]\n",
    "    \n",
    "    if not word_vectors:\n",
    "        raise ValueError(\"Words not recognised by model\")\n",
    "    \n",
    "    # Neem het gemiddelde van de woordvectoren\n",
    "    embedding = np.mean(word_vectors, axis=0)\n",
    "    return embedding"
   ]
  },
  {
   "cell_type": "code",
   "execution_count": 8,
   "metadata": {},
   "outputs": [],
   "source": [
    "def compute_pca(X, n_components):\n",
    "    X_centered = X - np.mean(X, axis=0)\n",
    "    covariance_matrix = np.cov(X_centered, rowvar=False)\n",
    "    eigenvalues, eigenvectors = np.linalg.eigh(covariance_matrix)\n",
    "    sorted_indices = np.argsort(eigenvalues)[::-1]\n",
    "    eigenvalues = eigenvalues[sorted_indices]\n",
    "    eigenvectors = eigenvectors[:, sorted_indices]\n",
    "    top_eigenvectors = eigenvectors[:, :n_components]\n",
    "    X_reduced = np.dot(X_centered, top_eigenvectors)\n",
    "\n",
    "    return X_reduced"
   ]
  },
  {
   "cell_type": "code",
   "execution_count": 18,
   "metadata": {},
   "outputs": [
    {
     "name": "stdout",
     "output_type": "stream",
     "text": [
      "(200,)\n",
      "(200,)\n",
      "(200,)\n"
     ]
    }
   ],
   "source": [
    "zin1 = \"Breast cancers with HER2 amplification have a higher risk of CNS metastasis and poorer prognosis.\"\n",
    "zin2 = \"Breast cancers with HER2 amplification are more aggressive, have a higher risk of CNS metastasis, and poorer prognosis.\"\n",
    "zin3 = \"Furthermore, increased CREB expression in breast tumors is associated with poor prognosis, shorter survival and higher risk of metastasis.\"\n",
    "\n",
    "for zin in [zin1,zin2,zin3]:\n",
    "    X = embed_sentence(zin, model_BioSentVec)\n",
    "    print(X.shape)\n",
    "    #print(compute_pca(X, n_components=2))\n"
   ]
  }
 ],
 "metadata": {
  "kernelspec": {
   "display_name": ".llm",
   "language": "python",
   "name": "python3"
  },
  "language_info": {
   "codemirror_mode": {
    "name": "ipython",
    "version": 3
   },
   "file_extension": ".py",
   "mimetype": "text/x-python",
   "name": "python",
   "nbconvert_exporter": "python",
   "pygments_lexer": "ipython3",
   "version": "3.12.2"
  }
 },
 "nbformat": 4,
 "nbformat_minor": 2
}
