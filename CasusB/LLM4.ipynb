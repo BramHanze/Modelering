{
 "cells": [
  {
   "cell_type": "code",
   "execution_count": 44,
   "metadata": {},
   "outputs": [
    {
     "name": "stderr",
     "output_type": "stream",
     "text": [
      "[nltk_data] Downloading package stopwords to\n",
      "[nltk_data]     /homes/blkoobs/nltk_data...\n",
      "[nltk_data]   Package stopwords is already up-to-date!\n"
     ]
    },
    {
     "data": {
      "text/plain": [
       "'breast cancer breast cancer is one of the most common cancers that affects women and people assigned female at birth (afab). it happens when cancerous cells in your breasts multiply and become tumors. about 80% of breast cancer cases are invasive, meaning a tumor may spread from your breast to other areas of your body. breast cancer typically affects women age 50 and older, but it can also affect women and people afab who are younger than 50. men and people assigned male at birth (amab) may also develop breast cancer.  healthcare providers determine cancer types and subtypes so they can tailor treatment to be as effective as possible with the fewest possible side effects. common types of breast cancer include: invasive (infiltrating) ductal carcinoma (idc): this cancer starts in your milk ducts and spreads to nearby breast tissue. itâ€™s the most common type of breast cancer in the united states. lobular breast cancer: this breast cancer starts in the milk-producing glands (lobules) in your breast and often spreads to nearby breast tissue. itâ€™s the second most common breast cancer in the united states. ductal carcinoma in situ (dcis): like idc, this breast cancer starts in your milk ducts. the difference is dcis doesnâ€™t spread beyond your milk ducts. healthcare providers classify breast cancer subtypes by receptor cell status. receptors are protein molecules in or on cellsâ€™ surfaces. they can attract or attach to certain substances in your blood, including hormones like estrogen and progesterone. estrogen and progesterone help cancerous cells to grow. finding out if cancerous cells have estrogen or progesterone receptors helps healthcare providers plan breast cancer treatment. the condition can affect your breasts in different ways. some breast cancer symptoms are very distinctive. others may simply seem like areas of your breast that look very different from any other area. breast cancer may not cause noticeable symptoms either. experts know breast cancer happens when breast cells mutate and become cancerous cells that divide and multiply to create tumors. they arenâ€™t sure what triggers that change. however, research shows there are several risk factors that may increase your chances of developing breast cancer. the most significant complication is metastatic breast cancer â€” breast cancer that spreads to other areas of your body, including your brain, bones, liver and lungs. studies show about 1 in 3 women and people afab who have early-stage cancer later develop metastatic breast cancer. healthcare providers use cancer staging systems to plan treatment. staging cancer also helps providers set a prognosis, or what you can expect after treatment. breast cancer staging depends on factors like breast cancer type, tumor size and location, and whether cancer has spread to other areas of your body.   prostate cancer prostate cancer develops in the prostate, a small walnut-shaped gland located below the bladder and in front of the rectum in men and people assigned male at birth (amab). this tiny gland secretes fluid that mixes with semen, keeping sperm healthy for conception and pregnancy. prostate cancer is a serious disease. fortunately, most people with prostate cancer get diagnosed before it spreads beyond their prostate gland. treatment at this stage often eliminates the cancer. prostate cancer is common, second only to skin cancer as the most common cancer affecting men and people amab. according to the u.s. centers for disease control and prevention (cdc), for every 100 people with prostates, 13 will develop prostate cancer at some point in their lives. most will live normal lives and eventually die from causes unrelated to prostate cancer. some wonâ€™t need treatment. still, approximately 34,000 people in the united states die from prostate cancer each year. the most common form of prostate cancer is adenocarcinoma. adenocarcinomas start in the cells of glands â€” like your prostate â€” that secrete fluid. rarely, prostate cancer forms from other types of cells. less common types of prostate cancers include: small cell carcinomas. transitional cell carcinomas. neuroendocrine tumors. sarcomas. experts arenâ€™t sure what causes cells in your prostate to become cancer cells. as with cancer in general, prostate cancer forms when cells divide faster than usual. while normal cells eventually die, cancer cells donâ€™t. instead, they multiply and grow into a lump called a tumor. as the cells continue to multiply, parts of the tumor can break off and spread to other parts of your body (metastasize). luckily, prostate cancer usually grows slowly. most tumors are diagnosed before the cancer has spread beyond your prostate. prostate cancer is highly treatable at this stage. not everyone who likely has prostate cancer will need a definitive diagnosis. for example, if your provider thinks your tumor is growing slowly, they may delay more testing because itâ€™s not serious enough to require treatment. if itâ€™s more aggressive (growing fast or spreading), you may need additional tests, including a biopsy. not everyone who likely has prostate cancer will need a definitive diagnosis. for example, if your tumor is thought to be slow growing, your provider may delay more testing because itâ€™s not serious enough to require treatment. if itâ€™s more aggressive (growing fast or spreading), you may need additional tests, including a biopsy. treatment of prostate cancer depends on multiple factors, including your overall condition, if the cancerâ€™s spread and how fast itâ€™s spreading. depending on your treatments, you may work with various healthcare providers, including urologists, radiation oncologists and medical oncologists. most prostate cancer diagnosed in the early stages can be cured with treatment.  colorectal cancer colon cancer develops from polyps (growths) in your colonâ€™s inner lining. healthcare providers have screening tests and treatments that detect and remove precancerous polyps. if untreated, colon cancer may spread to other areas of your body. thanks to these tests, early treatment and new kinds of treatment, fewer people are dying from colon cancer. colon (colorectal) cancer starts in your colon (large intestine), the long tube that helps carry digested food to your rectum and out of your body. colon cancer develops from certain polyps or growths in the inner lining of your colon. healthcare providers have screening tests that detect precancerous polyps before they can become cancerous tumors. colon cancer thatâ€™s not detected or treated may spread to other areas of your body. thanks to screening tests, early treatment and new kinds of treatment, fewer people are dying from colon cancer. your colon wall is made of layers of mucous membrane, tissue and muscle. colon cancer starts in your mucosa, the innermost lining of your colon. it consists of cells that make and release mucus and other fluids. if these cells mutate or change, they may create a colon polyp. over time, colon polyps may become cancerous. (it usually takes about 10 years for cancer to form in a colon polyp.) left undetected and/or untreated, the cancer works its way through a layer of tissue, muscle and the outer layer of your colon. the colon cancer may also spread to other parts of your body via your lymph nodes or your blood vessels. colon cancer is the third most common cancer diagnosed in people in the u.s. according to the u.s. centers for disease control and prevention (cdc), men and people assigned male at birth (amab) are slightly more likely to develop colon cancer than women and people assigned female at birth (afab). colon cancer affects more people who are black than people who are members of other ethnic groups or races. colon cancer typically affects people age 50 and older. over the past 15 years, however, the number of people age 20 to 49 with colon cancer has increased by about 1.5% each year. medical researchers arenâ€™t sure why this is happening. like all types of cancer, colon cancer happens when cells grow and divide uncontrollably. all cells in your body are constantly growing, dividing and dying. thatâ€™s how your body remains healthy and working as it should. in colon cancer, cells lining your colon and rectum keep growing and dividing even when theyâ€™re supposed to die. these cancerous cells may come from polyps in your colon. medical researchers arenâ€™t sure why some people develop precancerous colon polyps that become colon cancer. they do know certain risk factors increase peopleâ€™s chances of developing precancerous polyps and colon cancer. those risk factors include certain medical conditions, including inherited conditions, and lifestyle choices. having one or more risk factors for colon cancer doesnâ€™t mean youâ€™ll develop the condition. it just means you have increased risk. understanding risk factors may help you decide if you should talk to a healthcare provider about your risk of developing colon (colorectal) cancer. surgery is the most common colon cancer treatment. there are different colon cancer surgeries and procedures. healthcare providers may combine surgery with adjuvant therapy. this is cancer treatment done before or after surgery. they may also use these treatments for colon cancer that has spread or come back.   blood cancer blood cancer endangers an essential life force â€” our blood cells. these cells give us energy, help us fight infection and keep us from bleeding too much. fortunately, there are many effective and safe ways to treat blood cancer. blood cancer affects how your body produces blood cells and how well those cells work. most blood cancers start in your bone marrow, the soft, sponge-like material in the center of your bones. your bone marrow makes stem cells that mature and become red blood cells, white blood cells and platelets. normal blood cells fight infection, carry oxygen throughout your body and control bleeding. blood cancer happens when something disrupts how your body makes blood cells. if you have blood cancer, abnormal blood cells overwhelm normal blood cells, creating a ripple effect of medical conditions. more people are living longer with blood cancer, as healthcare providers find new ways to treat it. blood cancers are serious illnesses, but other cancer types are more deadly. blood cancers represent about 10% of all cancers diagnosed in the united states each year, and an estimated 3% of all cancer-related deaths. national cancer institute data show a steady decline in blood cancer deaths. survival rates are estimates based on averages. your healthcare provider may share five-year survival rates as a way of explaining how your blood cancer may affect your health five years after diagnosis. survival rates are different for each of the three blood cancer types, but many people who have blood cancer can expect to survive as long as most other people. there are three blood cancer types, each with several subtypes. those cancer types and subtypes  leukemia is the most common blood cancer in the united states and the most common cancer among  children and teenagers. the five-year survival rate has quadrupled over the past 40 years. types of leukemia include acute lymphoblastic leukemia, acute myeloid leukemia, chronic lymphocytic leukemia and chronic myelogenous leukemia. lymphoma is cancer of your lymphatic system, which includes your bone marrow. the survival rate has doubled over the past 40 years. types of lymphoma include hodgkin lymphoma, non-hodgkin lymphoma, waldenstrom macroglobulinemia, follicular lymphoma, b-cell lymphoma and cutaneous t-cell lymphoma. myeloma is cancer that starts in your bone marrow and affects your plasma cells. multiple myeloma is the most common myeloma type. more than half of people diagnosed with myeloma are alive five years after diagnosis. other types of myeloma include plasmacytoma and amyloidosis. researchers know blood cancer happens when blood cell dna changes or mutates, but they arenâ€™t sure why this happens. your dna tells cells what to do. in blood cancer, dna tells blood cells when to grow, when to divide or multiply and/or when to die. when dna gives your cells new instructions, your body develops abnormal blood cells that grow and multiply faster than normal and sometimes live longer than normal. when that happens, normal blood cells become lost in an ever-growing horde of abnormal cells that crowd your normal cells and monopolize space in your bone marrow. eventually, your bone marrow produces fewer normal cells. that means there arenâ€™t enough normal cells available to do their essential tasks: carrying oxygen through your body, fighting infection and controlling   leukemia: researchers think leukemia happens when a combination of environmental and genetic factors triggers dna changes. in this case, researchers think changes in chromosomes may trigger dna changes. chromosomes are strands of dna. when cells divide and make two new cells, they copy these dna strands. sometimes, genes from one chromosome switch to another chromosome. in leukemia, this switch may affect a set of genes that help cells grow and another set of genes that suppress tumors. researchers believe exposure to high levels of radiation or certain chemicals plays a role in the genetic changes that cause leukemia. lymphoma: lymphoma happens when thereâ€™s a change in genes in white blood cells, called lymphocytes, that causes them to multiply uncontrollably. in addition, abnormal lymphocytes donâ€™t die when normal lymphocytes die. again, researchers donâ€™t know what triggers the genetic change, but research shows certain infections or having a depressed immune system may be factors. myeloma: in this case, plasma cells in your bone marrow get new genetic instructions that make them multiply. researchers are investigating potential links between myeloma and chromosomal change that affect genes that control plasma cell growth. many blood cancer symptoms are similar to other less serious illnessesâ€™ symptoms. having any of these symptoms doesnâ€™t mean you have blood cancer. but you should contact your healthcare provider when you notice symptoms or changes in your body that last more than a few weeks. blood cancer treatment isnâ€™t one-size-fits-all. some blood cancer types respond well to specific treatments. some blood cancer treatments have significant side effects. healthcare providers consider factors, including your age, your overall health, the kind of blood cancer you have and specific treatment side effects, before recommending a treatment plan.  blood cancer treatment often combines chemotherapy and radiation therapy. both treatments are effective but have different side effects. if youâ€™re receiving chemotherapy or radiation therapy, ask your healthcare provider about side effects.  '"
      ]
     },
     "execution_count": 44,
     "metadata": {},
     "output_type": "execute_result"
    }
   ],
   "source": [
    "with open('LLM4.txt','r') as file:\n",
    "    file = file.readlines()\n",
    "\n",
    "data = ''\n",
    "for line in file:\n",
    "   data += line.replace('\\n', ' ').lower()\n",
    "\n",
    "import nltk\n",
    "import string\n",
    "from nltk.corpus import stopwords  # Correctly import stopwords\n",
    "\n",
    "nltk.download('stopwords')\n",
    "stop_words = set(stopwords.words('english'))\n",
    "\n",
    "\n",
    "def preprocess_sentence(text):\n",
    "    text = text.translate(str.maketrans('', '', string.punctuation))\n",
    "    text = text.translate(str.maketrans('', '', string.digits))\n",
    "    text = text.lower().split()\n",
    "    \n",
    "    text = ' '.join([token for token in text if token not in stop_words])\n",
    "    \n",
    "    return text\n",
    "\n",
    "data"
   ]
  },
  {
   "cell_type": "code",
   "execution_count": 45,
   "metadata": {},
   "outputs": [
    {
     "name": "stdout",
     "output_type": "stream",
     "text": [
      "{'0': 0, ' ': 1, 'k': 2, 'z': 3, 'j': 4, 'w': 5, '”': 6, '™': 7, 'v': 8, ':': 9, '.': 10, '2': 11, '€': 12, 'd': 13, 'a': 14, 'r': 15, 'y': 16, 'e': 17, '%': 18, 'm': 19, 'x': 20, '4': 21, ')': 22, 'g': 23, '3': 24, 't': 25, 'i': 26, 'f': 27, 'â': 28, '-': 29, 'b': 30, '8': 31, '(': 32, 'n': 33, '/': 34, 'q': 35, '9': 36, 's': 37, 'p': 38, 'h': 39, 'c': 40, 'u': 41, 'o': 42, ',': 43, '1': 44, 'l': 45, '5': 46}\n",
      "{0: '0', 1: ' ', 2: 'k', 3: 'z', 4: 'j', 5: 'w', 6: '”', 7: '™', 8: 'v', 9: ':', 10: '.', 11: '2', 12: '€', 13: 'd', 14: 'a', 15: 'r', 16: 'y', 17: 'e', 18: '%', 19: 'm', 20: 'x', 21: '4', 22: ')', 23: 'g', 24: '3', 25: 't', 26: 'i', 27: 'f', 28: 'â', 29: '-', 30: 'b', 31: '8', 32: '(', 33: 'n', 34: '/', 35: 'q', 36: '9', 37: 's', 38: 'p', 39: 'h', 40: 'c', 41: 'u', 42: 'o', 43: ',', 44: '1', 45: 'l', 46: '5'}\n"
     ]
    },
    {
     "data": {
      "text/plain": [
       "'breast cancer breast cancer one common cancers affects women people assigned female birth afab happens cancerous cells breasts multiply become tumors breast cancer cases invasive meaning tumor may spread breast areas body breast cancer typically affects women age older also affect women people afab younger men people assigned male birth amab may also develop breast cancer healthcare providers determine cancer types subtypes tailor treatment effective possible fewest possible side effects common types breast cancer include invasive infiltrating ductal carcinoma idc cancer starts milk ducts spreads nearby breast tissue itâ€™s common type breast cancer united states lobular breast cancer breast cancer starts milkproducing glands lobules breast often spreads nearby breast tissue itâ€™s second common breast cancer united states ductal carcinoma situ dcis like idc breast cancer starts milk ducts difference dcis doesnâ€™t spread beyond milk ducts healthcare providers classify breast cancer subtypes receptor cell status receptors protein molecules cellsâ€™ surfaces attract attach certain substances blood including hormones like estrogen progesterone estrogen progesterone help cancerous cells grow finding cancerous cells estrogen progesterone receptors helps healthcare providers plan breast cancer treatment condition affect breasts different ways breast cancer symptoms distinctive others may simply seem like areas breast look different area breast cancer may cause noticeable symptoms either experts know breast cancer happens breast cells mutate become cancerous cells divide multiply create tumors arenâ€™t sure triggers change however research shows several risk factors may increase chances developing breast cancer significant complication metastatic breast cancer â€” breast cancer spreads areas body including brain bones liver lungs studies show women people afab earlystage cancer later develop metastatic breast cancer healthcare providers use cancer staging systems plan treatment staging cancer also helps providers set prognosis expect treatment breast cancer staging depends factors like breast cancer type tumor size location whether cancer spread areas body prostate cancer prostate cancer develops prostate small walnutshaped gland located bladder front rectum men people assigned male birth amab tiny gland secretes fluid mixes semen keeping sperm healthy conception pregnancy prostate cancer serious disease fortunately people prostate cancer get diagnosed spreads beyond prostate gland treatment stage often eliminates cancer prostate cancer common second skin cancer common cancer affecting men people amab according us centers disease control prevention cdc every people prostates develop prostate cancer point lives live normal lives eventually die causes unrelated prostate cancer wonâ€™t need treatment still approximately people united states die prostate cancer year common form prostate cancer adenocarcinoma adenocarcinomas start cells glands â€” like prostate â€” secrete fluid rarely prostate cancer forms types cells less common types prostate cancers include small cell carcinomas transitional cell carcinomas neuroendocrine tumors sarcomas experts arenâ€™t sure causes cells prostate become cancer cells cancer general prostate cancer forms cells divide faster usual normal cells eventually die cancer cells donâ€™t instead multiply grow lump called tumor cells continue multiply parts tumor break spread parts body metastasize luckily prostate cancer usually grows slowly tumors diagnosed cancer spread beyond prostate prostate cancer highly treatable stage everyone likely prostate cancer need definitive diagnosis example provider thinks tumor growing slowly may delay testing itâ€™s serious enough require treatment itâ€™s aggressive growing fast spreading may need additional tests including biopsy everyone likely prostate cancer need definitive diagnosis example tumor thought slow growing provider may delay testing itâ€™s serious enough require treatment itâ€™s aggressive growing fast spreading may need additional tests including biopsy treatment prostate cancer depends multiple factors including overall condition cancerâ€™s spread fast itâ€™s spreading depending treatments may work various healthcare providers including urologists radiation oncologists medical oncologists prostate cancer diagnosed early stages cured treatment colorectal cancer colon cancer develops polyps growths colonâ€™s inner lining healthcare providers screening tests treatments detect remove precancerous polyps untreated colon cancer may spread areas body thanks tests early treatment new kinds treatment fewer people dying colon cancer colon colorectal cancer starts colon large intestine long tube helps carry digested food rectum body colon cancer develops certain polyps growths inner lining colon healthcare providers screening tests detect precancerous polyps become cancerous tumors colon cancer thatâ€™s detected treated may spread areas body thanks screening tests early treatment new kinds treatment fewer people dying colon cancer colon wall made layers mucous membrane tissue muscle colon cancer starts mucosa innermost lining colon consists cells make release mucus fluids cells mutate change may create colon polyp time colon polyps may become cancerous usually takes years cancer form colon polyp left undetected andor untreated cancer works way layer tissue muscle outer layer colon colon cancer may also spread parts body via lymph nodes blood vessels colon cancer third common cancer diagnosed people us according us centers disease control prevention cdc men people assigned male birth amab slightly likely develop colon cancer women people assigned female birth afab colon cancer affects people black people members ethnic groups races colon cancer typically affects people age older past years however number people age colon cancer increased year medical researchers arenâ€™t sure happening like types cancer colon cancer happens cells grow divide uncontrollably cells body constantly growing dividing dying thatâ€™s body remains healthy working colon cancer cells lining colon rectum keep growing dividing even theyâ€™re supposed die cancerous cells may come polyps colon medical researchers arenâ€™t sure people develop precancerous colon polyps become colon cancer know certain risk factors increase peopleâ€™s chances developing precancerous polyps colon cancer risk factors include certain medical conditions including inherited conditions lifestyle choices one risk factors colon cancer doesnâ€™t mean youâ€™ll develop condition means increased risk understanding risk factors may help decide talk healthcare provider risk developing colon colorectal cancer surgery common colon cancer treatment different colon cancer surgeries procedures healthcare providers may combine surgery adjuvant therapy cancer treatment done surgery may also use treatments colon cancer spread come back blood cancer blood cancer endangers essential life force â€” blood cells cells give us energy help us fight infection keep us bleeding much fortunately many effective safe ways treat blood cancer blood cancer affects body produces blood cells well cells work blood cancers start bone marrow soft spongelike material center bones bone marrow makes stem cells mature become red blood cells white blood cells platelets normal blood cells fight infection carry oxygen throughout body control bleeding blood cancer happens something disrupts body makes blood cells blood cancer abnormal blood cells overwhelm normal blood cells creating ripple effect medical conditions people living longer blood cancer healthcare providers find new ways treat blood cancers serious illnesses cancer types deadly blood cancers represent cancers diagnosed united states year estimated cancerrelated deaths national cancer institute data show steady decline blood cancer deaths survival rates estimates based averages healthcare provider may share fiveyear survival rates way explaining blood cancer may affect health five years diagnosis survival rates different three blood cancer types many people blood cancer expect survive long people three blood cancer types several subtypes cancer types subtypes leukemia common blood cancer united states common cancer among children teenagers fiveyear survival rate quadrupled past years types leukemia include acute lymphoblastic leukemia acute myeloid leukemia chronic lymphocytic leukemia chronic myelogenous leukemia lymphoma cancer lymphatic system includes bone marrow survival rate doubled past years types lymphoma include hodgkin lymphoma nonhodgkin lymphoma waldenstrom macroglobulinemia follicular lymphoma bcell lymphoma cutaneous tcell lymphoma myeloma cancer starts bone marrow affects plasma cells multiple myeloma common myeloma type half people diagnosed myeloma alive five years diagnosis types myeloma include plasmacytoma amyloidosis researchers know blood cancer happens blood cell dna changes mutates arenâ€™t sure happens dna tells cells blood cancer dna tells blood cells grow divide multiply andor die dna gives cells new instructions body develops abnormal blood cells grow multiply faster normal sometimes live longer normal happens normal blood cells become lost evergrowing horde abnormal cells crowd normal cells monopolize space bone marrow eventually bone marrow produces fewer normal cells means arenâ€™t enough normal cells available essential tasks carrying oxygen body fighting infection controlling leukemia researchers think leukemia happens combination environmental genetic factors triggers dna changes case researchers think changes chromosomes may trigger dna changes chromosomes strands dna cells divide make two new cells copy dna strands sometimes genes one chromosome switch another chromosome leukemia switch may affect set genes help cells grow another set genes suppress tumors researchers believe exposure high levels radiation certain chemicals plays role genetic changes cause leukemia lymphoma lymphoma happens thereâ€™s change genes white blood cells called lymphocytes causes multiply uncontrollably addition abnormal lymphocytes donâ€™t die normal lymphocytes die researchers donâ€™t know triggers genetic change research shows certain infections depressed immune system may factors myeloma case plasma cells bone marrow get new genetic instructions make multiply researchers investigating potential links myeloma chromosomal change affect genes control plasma cell growth many blood cancer symptoms similar less serious illnessesâ€™ symptoms symptoms doesnâ€™t mean blood cancer contact healthcare provider notice symptoms changes body last weeks blood cancer treatment isnâ€™t onesizefitsall blood cancer types respond well specific treatments blood cancer treatments significant side effects healthcare providers consider factors including age overall health kind blood cancer specific treatment side effects recommending treatment plan blood cancer treatment often combines chemotherapy radiation therapy treatments effective different side effects youâ€™re receiving chemotherapy radiation therapy ask healthcare provider side effects'"
      ]
     },
     "execution_count": 45,
     "metadata": {},
     "output_type": "execute_result"
    }
   ],
   "source": [
    "characters = dict()\n",
    "indexes = dict()\n",
    "\n",
    "for i, char in enumerate(set(data)):\n",
    "    characters[char] = i\n",
    "    indexes[i] = char\n",
    "\n",
    "print(characters)\n",
    "print(indexes)\n",
    "\n",
    "preprocessed_data = preprocess_sentence(data)\n",
    "preprocessed_data"
   ]
  },
  {
   "cell_type": "code",
   "execution_count": 56,
   "metadata": {},
   "outputs": [
    {
     "name": "stdout",
     "output_type": "stream",
     "text": [
      "[list(['cancer', 'breast']) list(['breast', 'breast', 'cancer'])\n",
      " list(['breast', 'cancer', 'cancer', 'one']) ...\n",
      " list(['ask', 'healthcare', 'side', 'effects'])\n",
      " list(['healthcare', 'provider', 'effects']) list(['provider', 'side'])]\n",
      "\n",
      "\n",
      "['breast' 'cancer' 'breast' ... 'provider' 'side' 'effects']\n"
     ]
    }
   ],
   "source": [
    "import numpy as np\n",
    "def create_pairs(data, w_size):\n",
    "    X = []\n",
    "    y = []\n",
    "    data = data.split(' ')\n",
    "    \n",
    "    for i, w in enumerate(data):\n",
    "        # Bepaal het venster\n",
    "        start_idx = max(i - w_size, 0)\n",
    "        end_idx = min(i + w_size + 1, len(data))\n",
    "\n",
    "        context = data[start_idx:i] + data[i+1:end_idx]\n",
    "\n",
    "        X.append(context)\n",
    "        y.append(w)\n",
    "    X = np.array(X, dtype=object)\n",
    "    y = np.array(y, dtype=object)\n",
    "    return X, y\n",
    "\n",
    "X,y = create_pairs(preprocessed_data, 2)\n",
    "print(X)\n",
    "print('\\n')\n",
    "print(y)"
   ]
  },
  {
   "cell_type": "code",
   "execution_count": 64,
   "metadata": {},
   "outputs": [],
   "source": [
    "import keras\n",
    "from keras import layers\n",
    "from keras import ops\n",
    "\n",
    "\n",
    "model = keras.Sequential([\n",
    "        layers.Dense(2, activation=\"relu\", name=\"layer1\"),\n",
    "        layers.Dense(3, activation=\"relu\", name=\"layer2\"),\n",
    "        layers.Dense(4, name=\"layer3\"),\n",
    "    ])\n",
    "\n",
    "# Call model on a test input\n",
    "x = ops.ones((3, 3))\n",
    "y = model(x)"
   ]
  }
 ],
 "metadata": {
  "kernelspec": {
   "display_name": ".llm",
   "language": "python",
   "name": "python3"
  },
  "language_info": {
   "codemirror_mode": {
    "name": "ipython",
    "version": 3
   },
   "file_extension": ".py",
   "mimetype": "text/x-python",
   "name": "python",
   "nbconvert_exporter": "python",
   "pygments_lexer": "ipython3",
   "version": "3.12.2"
  }
 },
 "nbformat": 4,
 "nbformat_minor": 2
}
